{
  "nbformat": 4,
  "nbformat_minor": 0,
  "metadata": {
    "colab": {
      "provenance": [],
      "include_colab_link": true
    },
    "kernelspec": {
      "name": "python3",
      "display_name": "Python 3"
    },
    "language_info": {
      "name": "python"
    }
  },
  "cells": [
    {
      "cell_type": "markdown",
      "metadata": {
        "id": "view-in-github",
        "colab_type": "text"
      },
      "source": [
        "<a href=\"https://colab.research.google.com/github/aroonalok/deep-learning-foundations/blob/main/Reports.ipynb\" target=\"_parent\"><img src=\"https://colab.research.google.com/assets/colab-badge.svg\" alt=\"Open In Colab\"/></a>"
      ]
    },
    {
      "cell_type": "code",
      "source": [
        "import requests\n",
        "from google.colab import files\n",
        "import pandas as pd\n",
        "import pytz\n",
        "from datetime import datetime\n",
        "import re\n",
        "import openpyxl\n",
        "from openpyxl.styles import Font, Color, Border, Side"
      ],
      "metadata": {
        "id": "X2R6Z2uxBIbk"
      },
      "execution_count": 214,
      "outputs": []
    },
    {
      "cell_type": "markdown",
      "source": [
        "Config"
      ],
      "metadata": {
        "id": "6m9d2bMMAzSF"
      }
    },
    {
      "cell_type": "code",
      "source": [
        "# @title Date fields\n",
        "FROM_DATE = '2024-04-06' # @param {type:\"date\"}\n",
        "TO_DATE = '2024-04-01' # @param {type:\"date\"}\n",
        "DOWNLOAD_REPORT = False # @param {type:\"boolean\"}\n",
        "\n",
        "DATE_FORMAT = '%Y-%m-%d'\n",
        "if datetime.strptime(FROM_DATE, DATE_FORMAT) > datetime.strptime(TO_DATE, DATE_FORMAT):\n",
        "  raise AssertionError(\"TO_DATE should be greater than FROM_DATE \")"
      ],
      "metadata": {
        "id": "IqjmCX1XvF7v",
        "colab": {
          "base_uri": "https://localhost:8080/",
          "height": 176
        },
        "cellView": "form",
        "outputId": "3ff675e4-1362-4fd5-ae50-78644fd20aec"
      },
      "execution_count": 215,
      "outputs": [
        {
          "output_type": "error",
          "ename": "AssertionError",
          "evalue": "TO_DATE should be greater than FROM_DATE ",
          "traceback": [
            "\u001b[0;31m---------------------------------------------------------------------------\u001b[0m",
            "\u001b[0;31mAssertionError\u001b[0m                            Traceback (most recent call last)",
            "\u001b[0;32m<ipython-input-215-7c9895737995>\u001b[0m in \u001b[0;36m<cell line: 7>\u001b[0;34m()\u001b[0m\n\u001b[1;32m      6\u001b[0m \u001b[0mDATE_FORMAT\u001b[0m \u001b[0;34m=\u001b[0m \u001b[0;34m'%Y-%m-%d'\u001b[0m\u001b[0;34m\u001b[0m\u001b[0;34m\u001b[0m\u001b[0m\n\u001b[1;32m      7\u001b[0m \u001b[0;32mif\u001b[0m \u001b[0mdatetime\u001b[0m\u001b[0;34m.\u001b[0m\u001b[0mstrptime\u001b[0m\u001b[0;34m(\u001b[0m\u001b[0mFROM_DATE\u001b[0m\u001b[0;34m,\u001b[0m \u001b[0mDATE_FORMAT\u001b[0m\u001b[0;34m)\u001b[0m \u001b[0;34m>\u001b[0m \u001b[0mdatetime\u001b[0m\u001b[0;34m.\u001b[0m\u001b[0mstrptime\u001b[0m\u001b[0;34m(\u001b[0m\u001b[0mTO_DATE\u001b[0m\u001b[0;34m,\u001b[0m \u001b[0mDATE_FORMAT\u001b[0m\u001b[0;34m)\u001b[0m\u001b[0;34m:\u001b[0m\u001b[0;34m\u001b[0m\u001b[0;34m\u001b[0m\u001b[0m\n\u001b[0;32m----> 8\u001b[0;31m   \u001b[0;32mraise\u001b[0m \u001b[0mAssertionError\u001b[0m\u001b[0;34m(\u001b[0m\u001b[0;34m\"TO_DATE should be greater than FROM_DATE \"\u001b[0m\u001b[0;34m)\u001b[0m\u001b[0;34m\u001b[0m\u001b[0;34m\u001b[0m\u001b[0m\n\u001b[0m",
            "\u001b[0;31mAssertionError\u001b[0m: TO_DATE should be greater than FROM_DATE "
          ]
        }
      ]
    },
    {
      "cell_type": "code",
      "source": [
        "ORGANIZATION_ID = 60027298359\n",
        "CODE = \"1000.55d67894e14d35a5ae4ef3ba694c8982.a724e7d2c7b37639d4a3aac2eea554da\"\n",
        "CLIENT_ID = \"1000.VN8R67MXBXHMVQVD7RPH6QLBGDMWAD\"\n",
        "CLIENT_SECRET = \"7829df77f55363a44d97c30e7d1a13e3504d9faccc\"\n",
        "SCOPE = \"ZohoBooks.fullaccess.all\"\n",
        "\n",
        "MAX_RECORDS_PER_PAGE = 1000\n",
        "IST_TIMEZONE = pytz.timezone('Asia/Kolkata')\n",
        "\n",
        "API_CALLS_COUNTER = 0"
      ],
      "metadata": {
        "id": "7KHJ-fX-AB-x"
      },
      "execution_count": null,
      "outputs": []
    },
    {
      "cell_type": "code",
      "execution_count": null,
      "metadata": {
        "id": "J1pYtzmcteA1"
      },
      "outputs": [],
      "source": [
        "ROOT_API_ENDPOINT = \"https://www.zohoapis.in/books/v3/\""
      ]
    },
    {
      "cell_type": "code",
      "source": [
        "def formatTimestamp(timestamp):\n",
        "  timestamp_datetime = datetime.strptime(timestamp, '%Y-%m-%dT%H:%M:%S%z')\n",
        "  ist_datetime = timestamp_datetime.astimezone(IST_TIMEZONE)\n",
        "  return ist_datetime.strftime(\"%d-%m-%Y %H:%M\")\n",
        "\n",
        "def getItemType(item):\n",
        "  return \"Book\" if item['hsn_or_sac'] == '49011010' else \"Article\""
      ],
      "metadata": {
        "id": "EuejqBFiJ6k8"
      },
      "execution_count": null,
      "outputs": []
    },
    {
      "cell_type": "markdown",
      "source": [
        "OAuth"
      ],
      "metadata": {
        "id": "6rdRKOvOBM_B"
      }
    },
    {
      "cell_type": "code",
      "source": [
        "OAUTH_ROOT_URL = \"https://accounts.zoho.in/oauth/v2/token?\"\n",
        "OAUTH_REDIRECT_URI = \"http://www.zoho.in/books\"\n",
        "\n",
        "def getOauthToken(code, client_id, client_secret):\n",
        "  global API_CALLS_COUNTER\n",
        "  params = []\n",
        "  params.append(\"code={CODE}\".format(CODE=code))\n",
        "  params.append(\"client_id={CLIENT_ID}\".format(CLIENT_ID=client_id))\n",
        "  params.append(\"client_secret={CLIENT_SECRET}\".format(CLIENT_SECRET=client_secret))\n",
        "  params.append(\"redirect_uri={REDIRECT_URI}\".format(REDIRECT_URI=OAUTH_REDIRECT_URI))\n",
        "  params.append(\"grant_type=authorization_code\")\n",
        "  url = OAUTH_ROOT_URL+\"&\".join(params)\n",
        "  payload = {}\n",
        "  headers = {}\n",
        "  response = requests.request(\"POST\", url, headers=headers, data=payload)\n",
        "  API_CALLS_COUNTER += 1\n",
        "  return response.json()\n",
        "\n",
        "def renewOauthToken(refresh_token, client_id, client_secret):\n",
        "  global API_CALLS_COUNTER\n",
        "  params = []\n",
        "  params.append(\"refresh_token={REFRESH_TOKEN}\".format(REFRESH_TOKEN=refresh_token))\n",
        "  params.append(\"client_id={CLIENT_ID}\".format(CLIENT_ID=client_id))\n",
        "  params.append(\"client_secret={CLIENT_SECRET}\".format(CLIENT_SECRET=client_secret))\n",
        "  params.append(\"redirect_uri={REDIRECT_URI}\".format(REDIRECT_URI=OAUTH_REDIRECT_URI))\n",
        "  params.append(\"grant_type=refresh_token\")\n",
        "  url = OAUTH_ROOT_URL+\"&\".join(params)\n",
        "  payload = {}\n",
        "  headers = {}\n",
        "  response = requests.request(\"POST\", url, headers=headers, data=payload)\n",
        "  API_CALLS_COUNTER += 1\n",
        "  return response.json()\n",
        "\n",
        "def saveOauthToken(oauth_token, filename='authorization_token.txt'):\n",
        "  with open(filename, 'w') as token_file:\n",
        "    token_file.write(oauth_token['refresh_token'])\n",
        "    files.download(filename)\n",
        "\n",
        "def createSession(access_token):\n",
        "  session = requests.Session()\n",
        "  session.headers.update({'Authorization': 'Zoho-oauthtoken {access_token}'.format(access_token=access_token)})\n",
        "  return session"
      ],
      "metadata": {
        "id": "YJXgszFgDYmN"
      },
      "execution_count": null,
      "outputs": []
    },
    {
      "cell_type": "markdown",
      "source": [
        "DO NOT RUN THIS CELL"
      ],
      "metadata": {
        "id": "Z5cxsDakJ_Uu"
      }
    },
    {
      "cell_type": "code",
      "source": [
        "#oauth_token = getOauthToken(CODE,CLIENT_ID,CLIENT_SECRET)\n",
        "#saveOauthToken(oauth_token)"
      ],
      "metadata": {
        "id": "CwWgOQt8u0WO"
      },
      "execution_count": null,
      "outputs": []
    },
    {
      "cell_type": "markdown",
      "source": [
        "Organization"
      ],
      "metadata": {
        "id": "VQjIZey2Hr4U"
      }
    },
    {
      "cell_type": "code",
      "source": [
        "def getOrganizationInfo(session):\n",
        "  global API_CALLS_COUNTER\n",
        "  url = ROOT_API_ENDPOINT+'organizations'\n",
        "  payload = {}\n",
        "  response = session.get(url,data=payload)\n",
        "  API_CALLS_COUNTER += 1\n",
        "  return response.json()"
      ],
      "metadata": {
        "id": "W0fryd4lHtZI"
      },
      "execution_count": null,
      "outputs": []
    },
    {
      "cell_type": "markdown",
      "source": [
        "Renew Access Token"
      ],
      "metadata": {
        "id": "mIm9cy3Mta-B"
      }
    },
    {
      "cell_type": "code",
      "source": [
        "oauth_token = renewOauthToken('1000.8e82d21986ea040cf450df7a7afee4d8.84fa32b03a3316dbbdcba8033e4fc3ed',CLIENT_ID, CLIENT_SECRET)\n",
        "session = createSession(oauth_token['access_token'])"
      ],
      "metadata": {
        "id": "hqOafFK8mlTt"
      },
      "execution_count": null,
      "outputs": []
    },
    {
      "cell_type": "code",
      "source": [
        "getOrganizationInfo(session)"
      ],
      "metadata": {
        "id": "nonmyKzS9PZ3"
      },
      "execution_count": null,
      "outputs": []
    },
    {
      "cell_type": "markdown",
      "source": [
        "Invoices"
      ],
      "metadata": {
        "id": "cN30sXqrFHhJ"
      }
    },
    {
      "cell_type": "code",
      "source": [
        "def getInvoices(session, from_date=None, to_date=None, additional_params=[]):\n",
        "  global API_CALLS_COUNTER\n",
        "  params = additional_params\n",
        "  params.append(\"organization_id={ORGANIZATION_ID}\".format(ORGANIZATION_ID=ORGANIZATION_ID))\n",
        "  params.append(\"per_page={MAX_RECORDS_PER_PAGE}\".format(MAX_RECORDS_PER_PAGE=MAX_RECORDS_PER_PAGE))\n",
        "  params.append(\"sort_column=created_time\")\n",
        "  if from_date is not None:\n",
        "    params.append(\"date_start={FROM_DATE}\".format(FROM_DATE=from_date))\n",
        "  if to_date is not None:\n",
        "    params.append(\"date_end={TO_DATE}\".format(TO_DATE=to_date))\n",
        "  url = ROOT_API_ENDPOINT+\"invoices?\"+\"&\".join(params)\n",
        "\n",
        "  results = []\n",
        "  payload = {}\n",
        "  send_request = True\n",
        "  current_page = 1\n",
        "  while send_request:\n",
        "    response = session.get(url+\"&page={PAGE}\".format(PAGE=current_page),data=payload)\n",
        "    API_CALLS_COUNTER += 1\n",
        "    #perform exception handling here\n",
        "    results += response.json()['invoices']\n",
        "    send_request = response.json()['page_context']['has_more_page']\n",
        "    current_page += 1\n",
        "\n",
        "  return pd.DataFrame.from_records(results) if results else None\n",
        "\n",
        "def getInvoiceDetails(session, invoice_id):\n",
        "  global API_CALLS_COUNTER\n",
        "  params = []\n",
        "  params.append(\"organization_id={ORGANIZATION_ID}\".format(ORGANIZATION_ID=ORGANIZATION_ID))\n",
        "  url = ROOT_API_ENDPOINT+\"invoices/{invoice_id}?\".format(invoice_id=invoice_id)+\"&\".join(params)\n",
        "  payload = {}\n",
        "  response = session.get(url, data=payload)\n",
        "  API_CALLS_COUNTER += 1\n",
        "  return response.json()\n",
        "  #perform exception handling here\n",
        "\n",
        "def getPaymentsForInvoice(session, invoice_id):\n",
        "  global API_CALLS_COUNTER\n",
        "  params = []\n",
        "  params.append(\"organization_id={ORGANIZATION_ID}\".format(ORGANIZATION_ID=ORGANIZATION_ID))\n",
        "  url = ROOT_API_ENDPOINT+\"invoices/{invoice_id}/payments?\".format(invoice_id=invoice_id)+\"&\".join(params)\n",
        "  payload = {}\n",
        "  response = session.get(url, data=payload)\n",
        "  API_CALLS_COUNTER += 1\n",
        "  return response.json()\n",
        "  #perform exception handling here"
      ],
      "metadata": {
        "id": "Un_bN28NwAgR"
      },
      "execution_count": 216,
      "outputs": []
    },
    {
      "cell_type": "code",
      "source": [
        "#invoices = getInvoices(session, from_date='2024-03-21')"
      ],
      "metadata": {
        "id": "Mjd8_xAZFJJ-"
      },
      "execution_count": 217,
      "outputs": []
    },
    {
      "cell_type": "code",
      "source": [
        "#invoices"
      ],
      "metadata": {
        "id": "L4qTFj3Q2Hv1"
      },
      "execution_count": 218,
      "outputs": []
    },
    {
      "cell_type": "markdown",
      "source": [
        "Payments"
      ],
      "metadata": {
        "id": "JUErceNQ-1rN"
      }
    },
    {
      "cell_type": "code",
      "source": [
        "def getPayments(session, from_date=None, to_date=None):\n",
        "  global API_CALLS_COUNTER\n",
        "  params = []\n",
        "  params.append(\"organization_id={ORGANIZATION_ID}\".format(ORGANIZATION_ID=ORGANIZATION_ID))\n",
        "  params.append(\"per_page={MAX_RECORDS_PER_PAGE}\".format(MAX_RECORDS_PER_PAGE=MAX_RECORDS_PER_PAGE))\n",
        "  params.append(\"sort_column=created_time\")\n",
        "  if from_date is not None:\n",
        "    params.append(\"date_start={FROM_DATE}\".format(FROM_DATE=from_date))\n",
        "  if to_date is not None:\n",
        "    params.append(\"date_end={TO_DATE}\".format(TO_DATE=to_date))\n",
        "  url = ROOT_API_ENDPOINT+\"customerpayments?\"+\"&\".join(params)\n",
        "\n",
        "  results = []\n",
        "  payload = {}\n",
        "  send_request = True\n",
        "  current_page = 1\n",
        "  while send_request:\n",
        "    response = session.get(url+\"&page={PAGE}\".format(PAGE=current_page), data=payload)\n",
        "    API_CALLS_COUNTER += 1\n",
        "    #perform exception handling here\n",
        "    results += response.json()['customerpayments']\n",
        "    send_request = response.json()['page_context']['has_more_page']\n",
        "    current_page += 1\n",
        "\n",
        "  return pd.DataFrame.from_records(results) if results else None"
      ],
      "metadata": {
        "id": "8NiOfTdbUhGf"
      },
      "execution_count": 219,
      "outputs": []
    },
    {
      "cell_type": "markdown",
      "source": [
        "# Daily Sales Summary Report"
      ],
      "metadata": {
        "id": "6TAyhJTZWibh"
      }
    },
    {
      "cell_type": "markdown",
      "source": [
        "**Policies**\n",
        "\n",
        " - For a given Invoice, there can be only one payment mode. For example, an invoice cannot have partial payments via Card(s) and Cash / UPI.\n",
        " - All Credit settlement is done fully and at once. No installments. As in the above case, there can not be partial credit and partial payment for an Invoice."
      ],
      "metadata": {
        "id": "04IKGNzAsRei"
      }
    },
    {
      "cell_type": "code",
      "source": [
        "PAYMENT_MODE_CREDIT = \"Credit\"\n",
        "DAILY_SALES_REPORT_CAPTION = \"DAILY SALES SUMMARY REPORT FROM: {from_date} TO: {to_date}\"\n",
        "SALES_TYPE_REPORT_CAPTION = \"SALES TYPE SUMMARY REPORT FROM: {from_date} TO: {to_date}\"\n",
        "INTRA_STATE_TAX_REPORT_CAPTION = \"INTRA STATE TAX REPORT FROM: {from_date} TO: {to_date}\"\n",
        "TOTAL_INTRA_STATE_TAX_REPORT_CAPTION = \"INTRA STATE TAX SUMMARY REPORT FROM: {from_date} TO: {to_date}\"\n",
        "FILENAME = \"report-from-{from_date}-to-{to_date}.xlsx\"\n",
        "SALES_SHEET_NAME = \"Sales\"\n",
        "SALES_TYPE_SHEET_NAME = \"Sales Type\"\n",
        "GST_SHEET_NAME = \"GST\"\n",
        "TOTAL_GST_SHEET_NAME = \"TOTAL GST\""
      ],
      "metadata": {
        "id": "akNcKQgzyRiZ"
      },
      "execution_count": 220,
      "outputs": []
    },
    {
      "cell_type": "code",
      "source": [
        "def createDataForReporting(session, from_date=None, to_date=None):\n",
        "  invoices = getInvoices(session, from_date, to_date)\n",
        "  if invoices is None:\n",
        "    return None, None, None, None\n",
        "\n",
        "  invoice_data_rows = []\n",
        "  sales_type_data_rows = []\n",
        "  intra_state_tax_data_rows = []\n",
        "  for invoice_id in invoices['invoice_id']:\n",
        "    invoice = getInvoiceDetails(session, invoice_id)['invoice']\n",
        "    payments = getPaymentsForInvoice(session, invoice_id)['payments']\n",
        "    #assert len(payments) <= 1\n",
        "    payment_mode = payments[0]['payment_mode'] if payments else PAYMENT_MODE_CREDIT\n",
        "    invoice_data_rows.append({'Invoice No.' : invoice['invoice_number'],\n",
        "                              'Time' : formatTimestamp(invoice['created_time']),\n",
        "                              'Payment Mode' : payment_mode,\n",
        "                              'Amount (including tax)' : invoice['bcy_total']})\n",
        "    for item in invoice['line_items']:\n",
        "      item_total_inclusive_of_tax = item['rate']*item['quantity']\n",
        "      sales_type_data_rows.append({'Item Type' : getItemType(item),\n",
        "                                   'Amount (including GST)' : item_total_inclusive_of_tax,\n",
        "                                   'Payment Mode' : payment_mode})\n",
        "      cgst_amount, cgst_percent, sgst_amount, sgst_percent = 0.0, '0%', 0.0, '0%'\n",
        "      for tax in item['line_item_taxes']:\n",
        "        if tax['tax_name'].startswith(\"CGST\"):\n",
        "          cgst_amount, cgst_percent = tax['tax_amount'], re.search('\\d*%', tax['tax_name']).group()\n",
        "        elif tax['tax_name'].startswith(\"SGST\"):\n",
        "          sgst_amount, sgst_percent = tax['tax_amount'], re.search('\\d*%', tax['tax_name']).group()\n",
        "      intra_state_tax_data_rows.append({'Date' : invoice['date'],\n",
        "                                        'SKU' : item['sku'],\n",
        "                                        'Amount (excluding GST)' : item['item_total'],\n",
        "                                        'CGST Amount' : cgst_amount,\n",
        "                                        'SGST Amount' : sgst_amount,\n",
        "                                        'CGST Percent' : cgst_percent,\n",
        "                                        'SGST Percent' : sgst_percent,\n",
        "                                        'Amount (including GST)' : item_total_inclusive_of_tax})\n",
        "\n",
        "  invoice_df = pd.DataFrame(data = invoice_data_rows)\n",
        "  sales_type_df = pd.DataFrame(data = sales_type_data_rows).groupby(['Item Type', 'Payment Mode']).sum()\n",
        "  intra_state_tax_df = pd.DataFrame(data = intra_state_tax_data_rows)\n",
        "  total_intra_state_tax_df = intra_state_tax_df[['Amount (excluding GST)','CGST Amount','SGST Amount','Amount (including GST)']].sum().to_frame(name=\"Total\")\n",
        "  return invoice_df, sales_type_df, intra_state_tax_df, total_intra_state_tax_df\n",
        "\n",
        "def addCaption(df, caption):\n",
        "  df.columns = pd.MultiIndex.from_product([[caption], df.columns])\n",
        "  return df\n",
        "\n",
        "def set_borders_and_save(filename):\n",
        "  thin = Side(border_style=\"thin\", color=\"000000\")\n",
        "  wb = openpyxl.load_workbook(filename)\n",
        "  for sheet in wb.sheetnames:\n",
        "    ws = wb[sheet]\n",
        "    for row in ws[ws.dimensions]:\n",
        "      for cell in row:\n",
        "        cell.border = Border(top=thin, left=thin, right=thin, bottom=thin)\n",
        "  wb.save(filename)\n",
        "\n",
        "def generateReport(from_date=None, to_date=None):\n",
        "  oauth_token = renewOauthToken('1000.8e82d21986ea040cf450df7a7afee4d8.84fa32b03a3316dbbdcba8033e4fc3ed',CLIENT_ID, CLIENT_SECRET)\n",
        "  session = createSession(oauth_token['access_token'])\n",
        "\n",
        "  report_data = createDataForReporting(session, from_date, to_date)\n",
        "\n",
        "  if all(df is None for df in report_data):\n",
        "    return (\"No Data!\",)*4\n",
        "\n",
        "  invoice_df, sales_type_df, intra_state_tax_df, total_intra_state_tax_df = report_data\n",
        "  invoice_df = addCaption(invoice_df, DAILY_SALES_REPORT_CAPTION.format(from_date=from_date, to_date=to_date))\n",
        "  sales_type_df = addCaption(sales_type_df, SALES_TYPE_REPORT_CAPTION.format(from_date=from_date, to_date=to_date))\n",
        "  intra_state_tax_df = addCaption(intra_state_tax_df, INTRA_STATE_TAX_REPORT_CAPTION.format(from_date=from_date, to_date=to_date))\n",
        "  total_intra_state_tax_df = addCaption(total_intra_state_tax_df, TOTAL_INTRA_STATE_TAX_REPORT_CAPTION.format(from_date=from_date, to_date=to_date))\n",
        "\n",
        "  filename = FILENAME.format(from_date=from_date, to_date=to_date)\n",
        "  with pd.ExcelWriter(filename) as writer:\n",
        "    invoice_df.to_excel(writer, sheet_name=SALES_SHEET_NAME, index=True)\n",
        "    sales_type_df.to_excel(writer, sheet_name=SALES_TYPE_SHEET_NAME, index=True)\n",
        "    intra_state_tax_df.to_excel(writer, sheet_name=GST_SHEET_NAME, index=True)\n",
        "    total_intra_state_tax_df.to_excel(writer, sheet_name=TOTAL_GST_SHEET_NAME, index=True)\n",
        "\n",
        "  set_borders_and_save(filename)\n",
        "  if DOWNLOAD_REPORT:\n",
        "    files.download(filename)\n",
        "\n",
        "  return invoice_df, sales_type_df, intra_state_tax_df, total_intra_state_tax_df\n",
        "\n",
        "\n"
      ],
      "metadata": {
        "id": "5nOIDDC613Fs"
      },
      "execution_count": 221,
      "outputs": []
    },
    {
      "cell_type": "code",
      "source": [
        "invoice_df, sales_type_df, intra_state_tax_df, total_intra_state_tax_df = generateReport(from_date=FROM_DATE, to_date=TO_DATE)"
      ],
      "metadata": {
        "id": "1JWCT2IPD_l9",
        "colab": {
          "base_uri": "https://localhost:8080/",
          "height": 287
        },
        "outputId": "28c85d2c-4000-4e3f-ddd3-fb2dc7d76e83"
      },
      "execution_count": 222,
      "outputs": [
        {
          "output_type": "error",
          "ename": "KeyError",
          "evalue": "'invoices'",
          "traceback": [
            "\u001b[0;31m---------------------------------------------------------------------------\u001b[0m",
            "\u001b[0;31mKeyError\u001b[0m                                  Traceback (most recent call last)",
            "\u001b[0;32m<ipython-input-222-161c09b5dc24>\u001b[0m in \u001b[0;36m<cell line: 1>\u001b[0;34m()\u001b[0m\n\u001b[0;32m----> 1\u001b[0;31m \u001b[0minvoice_df\u001b[0m\u001b[0;34m,\u001b[0m \u001b[0msales_type_df\u001b[0m\u001b[0;34m,\u001b[0m \u001b[0mintra_state_tax_df\u001b[0m\u001b[0;34m,\u001b[0m \u001b[0mtotal_intra_state_tax_df\u001b[0m \u001b[0;34m=\u001b[0m \u001b[0mgenerateReport\u001b[0m\u001b[0;34m(\u001b[0m\u001b[0mfrom_date\u001b[0m\u001b[0;34m=\u001b[0m\u001b[0mFROM_DATE\u001b[0m\u001b[0;34m,\u001b[0m \u001b[0mto_date\u001b[0m\u001b[0;34m=\u001b[0m\u001b[0mTO_DATE\u001b[0m\u001b[0;34m)\u001b[0m\u001b[0;34m\u001b[0m\u001b[0;34m\u001b[0m\u001b[0m\n\u001b[0m",
            "\u001b[0;32m<ipython-input-221-acbf04e920ef>\u001b[0m in \u001b[0;36mgenerateReport\u001b[0;34m(from_date, to_date)\u001b[0m\n\u001b[1;32m     60\u001b[0m   \u001b[0msession\u001b[0m \u001b[0;34m=\u001b[0m \u001b[0mcreateSession\u001b[0m\u001b[0;34m(\u001b[0m\u001b[0moauth_token\u001b[0m\u001b[0;34m[\u001b[0m\u001b[0;34m'access_token'\u001b[0m\u001b[0;34m]\u001b[0m\u001b[0;34m)\u001b[0m\u001b[0;34m\u001b[0m\u001b[0;34m\u001b[0m\u001b[0m\n\u001b[1;32m     61\u001b[0m \u001b[0;34m\u001b[0m\u001b[0m\n\u001b[0;32m---> 62\u001b[0;31m   \u001b[0mreport_data\u001b[0m \u001b[0;34m=\u001b[0m \u001b[0mcreateDataForReporting\u001b[0m\u001b[0;34m(\u001b[0m\u001b[0msession\u001b[0m\u001b[0;34m,\u001b[0m \u001b[0mfrom_date\u001b[0m\u001b[0;34m,\u001b[0m \u001b[0mto_date\u001b[0m\u001b[0;34m)\u001b[0m\u001b[0;34m\u001b[0m\u001b[0;34m\u001b[0m\u001b[0m\n\u001b[0m\u001b[1;32m     63\u001b[0m \u001b[0;34m\u001b[0m\u001b[0m\n\u001b[1;32m     64\u001b[0m   \u001b[0;32mif\u001b[0m \u001b[0mall\u001b[0m\u001b[0;34m(\u001b[0m\u001b[0mdf\u001b[0m \u001b[0;32mis\u001b[0m \u001b[0;32mNone\u001b[0m \u001b[0;32mfor\u001b[0m \u001b[0mdf\u001b[0m \u001b[0;32min\u001b[0m \u001b[0mreport_data\u001b[0m\u001b[0;34m)\u001b[0m\u001b[0;34m:\u001b[0m\u001b[0;34m\u001b[0m\u001b[0;34m\u001b[0m\u001b[0m\n",
            "\u001b[0;32m<ipython-input-221-acbf04e920ef>\u001b[0m in \u001b[0;36mcreateDataForReporting\u001b[0;34m(session, from_date, to_date)\u001b[0m\n\u001b[1;32m      1\u001b[0m \u001b[0;32mdef\u001b[0m \u001b[0mcreateDataForReporting\u001b[0m\u001b[0;34m(\u001b[0m\u001b[0msession\u001b[0m\u001b[0;34m,\u001b[0m \u001b[0mfrom_date\u001b[0m\u001b[0;34m=\u001b[0m\u001b[0;32mNone\u001b[0m\u001b[0;34m,\u001b[0m \u001b[0mto_date\u001b[0m\u001b[0;34m=\u001b[0m\u001b[0;32mNone\u001b[0m\u001b[0;34m)\u001b[0m\u001b[0;34m:\u001b[0m\u001b[0;34m\u001b[0m\u001b[0;34m\u001b[0m\u001b[0m\n\u001b[0;32m----> 2\u001b[0;31m   \u001b[0minvoices\u001b[0m \u001b[0;34m=\u001b[0m \u001b[0mgetInvoices\u001b[0m\u001b[0;34m(\u001b[0m\u001b[0msession\u001b[0m\u001b[0;34m,\u001b[0m \u001b[0mfrom_date\u001b[0m\u001b[0;34m,\u001b[0m \u001b[0mto_date\u001b[0m\u001b[0;34m)\u001b[0m\u001b[0;34m\u001b[0m\u001b[0;34m\u001b[0m\u001b[0m\n\u001b[0m\u001b[1;32m      3\u001b[0m   \u001b[0;32mif\u001b[0m \u001b[0minvoices\u001b[0m \u001b[0;32mis\u001b[0m \u001b[0;32mNone\u001b[0m\u001b[0;34m:\u001b[0m\u001b[0;34m\u001b[0m\u001b[0;34m\u001b[0m\u001b[0m\n\u001b[1;32m      4\u001b[0m     \u001b[0;32mreturn\u001b[0m \u001b[0;32mNone\u001b[0m\u001b[0;34m,\u001b[0m \u001b[0;32mNone\u001b[0m\u001b[0;34m,\u001b[0m \u001b[0;32mNone\u001b[0m\u001b[0;34m,\u001b[0m \u001b[0;32mNone\u001b[0m\u001b[0;34m\u001b[0m\u001b[0;34m\u001b[0m\u001b[0m\n\u001b[1;32m      5\u001b[0m \u001b[0;34m\u001b[0m\u001b[0m\n",
            "\u001b[0;32m<ipython-input-216-fc66415257b7>\u001b[0m in \u001b[0;36mgetInvoices\u001b[0;34m(session, from_date, to_date, additional_params)\u001b[0m\n\u001b[1;32m     19\u001b[0m     \u001b[0mAPI_CALLS_COUNTER\u001b[0m \u001b[0;34m+=\u001b[0m \u001b[0;36m1\u001b[0m\u001b[0;34m\u001b[0m\u001b[0;34m\u001b[0m\u001b[0m\n\u001b[1;32m     20\u001b[0m     \u001b[0;31m#perform exception handling here\u001b[0m\u001b[0;34m\u001b[0m\u001b[0;34m\u001b[0m\u001b[0m\n\u001b[0;32m---> 21\u001b[0;31m     \u001b[0mresults\u001b[0m \u001b[0;34m+=\u001b[0m \u001b[0mresponse\u001b[0m\u001b[0;34m.\u001b[0m\u001b[0mjson\u001b[0m\u001b[0;34m(\u001b[0m\u001b[0;34m)\u001b[0m\u001b[0;34m[\u001b[0m\u001b[0;34m'invoices'\u001b[0m\u001b[0;34m]\u001b[0m\u001b[0;34m\u001b[0m\u001b[0;34m\u001b[0m\u001b[0m\n\u001b[0m\u001b[1;32m     22\u001b[0m     \u001b[0msend_request\u001b[0m \u001b[0;34m=\u001b[0m \u001b[0mresponse\u001b[0m\u001b[0;34m.\u001b[0m\u001b[0mjson\u001b[0m\u001b[0;34m(\u001b[0m\u001b[0;34m)\u001b[0m\u001b[0;34m[\u001b[0m\u001b[0;34m'page_context'\u001b[0m\u001b[0;34m]\u001b[0m\u001b[0;34m[\u001b[0m\u001b[0;34m'has_more_page'\u001b[0m\u001b[0;34m]\u001b[0m\u001b[0;34m\u001b[0m\u001b[0;34m\u001b[0m\u001b[0m\n\u001b[1;32m     23\u001b[0m     \u001b[0mcurrent_page\u001b[0m \u001b[0;34m+=\u001b[0m \u001b[0;36m1\u001b[0m\u001b[0;34m\u001b[0m\u001b[0;34m\u001b[0m\u001b[0m\n",
            "\u001b[0;31mKeyError\u001b[0m: 'invoices'"
          ]
        }
      ]
    },
    {
      "cell_type": "code",
      "source": [
        "invoice_df"
      ],
      "metadata": {
        "id": "-pi3EEe4gTSy"
      },
      "execution_count": null,
      "outputs": []
    },
    {
      "cell_type": "code",
      "source": [
        "sales_type_df"
      ],
      "metadata": {
        "id": "NWPn-eo5gXVT"
      },
      "execution_count": null,
      "outputs": []
    },
    {
      "cell_type": "code",
      "source": [
        "intra_state_tax_df"
      ],
      "metadata": {
        "id": "vgUPb0z5iGfK"
      },
      "execution_count": null,
      "outputs": []
    },
    {
      "cell_type": "code",
      "source": [
        "total_intra_state_tax_df"
      ],
      "metadata": {
        "id": "0u13jX7W9A4O"
      },
      "execution_count": null,
      "outputs": []
    },
    {
      "cell_type": "markdown",
      "source": [],
      "metadata": {
        "id": "BpcVywy8ppKm"
      }
    },
    {
      "cell_type": "code",
      "source": [
        "API_CALLS_COUNTER"
      ],
      "metadata": {
        "id": "HpHHkR4skjHV"
      },
      "execution_count": null,
      "outputs": []
    },
    {
      "cell_type": "code",
      "source": [
        "datetime.strptime('2024-03-21', '%Y-%m-%d') > datetime.strptime('2024-03-22', '%Y-%m-%d')"
      ],
      "metadata": {
        "id": "uE9-DkhbXaVl"
      },
      "execution_count": null,
      "outputs": []
    }
  ]
}